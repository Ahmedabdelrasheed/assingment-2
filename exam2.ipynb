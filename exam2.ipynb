{
 "cells": [
  {
   "cell_type": "code",
   "execution_count": null,
   "id": "2002db3b",
   "metadata": {},
   "outputs": [],
   "source": [
    "Assignment:\n",
    "1. Write a Python program to add an item to a tuple.\n",
    "2. Write a Python program to sum all the items in a list.\n",
    "3. Write a Python program to multiply all the items in a list.\n",
    "4. Write a Python program to get the smallest number from a list.\n",
    "5. Write a Python program to get the largest number from a list.\n",
    "6. Write a Python program to count the number of strings from a given list of\n",
    "strings.\n",
    "7. Write a Python program to clone or copy a list\n",
    "8. Write a Python program to remove item(s) from a given set.\n",
    "9. Write a Python program to check if a set is a subset of another set.\n",
    "10. Write a Python program to remove all elements from a given set.\n",
    "11. Write a Python program to find the maximum and minimum values in a set.\n",
    "12. Write a Python program to find the index of an item in a tuple.\n",
    "13. Write a Python program to convert a tuple to a dictionary.\n",
    "14. Write a Python program to unzip a list of tuples into individual lists.\n",
    "15. Write a Python program to reverse a tuple.\n",
    "16. Write a Python program to convert a list of tuples into a dictionary.\n",
    "17. Write a Python program to replace the last value of tuples in a list.\n",
    "Sample list: [(10, 20, 40), (40, 50, 60), (70, 80, 90)]\n",
    "Expected Output: [(10, 20, 100), (40, 50, 100), (70, 80, 100)]\n",
    "18. Write a Python program to sort a tuple by its float element"
   ]
  },
  {
   "cell_type": "markdown",
   "id": "714dd8b2",
   "metadata": {},
   "source": [
    ". Write a Python program to add an item to a tuple"
   ]
  },
  {
   "cell_type": "code",
   "execution_count": 4,
   "id": "9df11f53",
   "metadata": {},
   "outputs": [
    {
     "name": "stdout",
     "output_type": "stream",
     "text": [
      "(1, 3, 5, 8, 100)\n"
     ]
    }
   ],
   "source": [
    "my_tuple=(1,3,5,8)\n",
    "covert_to_list=list(my_tuple)\n",
    "add_item=covert_to_list.append(100)\n",
    "convert_to_tuple=tuple(covert_to_list)\n",
    "print(convert_to_tuple)"
   ]
  },
  {
   "cell_type": "markdown",
   "id": "846de97e",
   "metadata": {},
   "source": [
    " Write a Python program to sum all the items in a list."
   ]
  },
  {
   "cell_type": "code",
   "execution_count": 24,
   "id": "fd630116",
   "metadata": {},
   "outputs": [
    {
     "name": "stdout",
     "output_type": "stream",
     "text": [
      "360\n",
      "(100, 120, 140, 160, 200)\n"
     ]
    }
   ],
   "source": [
    "my_list=[50,60,70,80,100]\n",
    "sum=0\n",
    "for x in my_list:\n",
    "    sum+=x\n",
    "print(sum)\n",
    "result=map(lambda x:x+x,my_list)\n",
    "print(tuple(result))"
   ]
  },
  {
   "cell_type": "markdown",
   "id": "359c73eb",
   "metadata": {},
   "source": [
    "Write a Python program to multiply all the items in a list."
   ]
  },
  {
   "cell_type": "code",
   "execution_count": 23,
   "id": "827de6ab",
   "metadata": {},
   "outputs": [
    {
     "name": "stdout",
     "output_type": "stream",
     "text": [
      "1680000000\n"
     ]
    }
   ],
   "source": [
    "my_list=[50,60,70,80,100]\n",
    "multiple=1\n",
    "for x in my_list:\n",
    "    multiple*=x\n",
    "print(multiple)\n",
    "   "
   ]
  },
  {
   "cell_type": "markdown",
   "id": "c16b1768",
   "metadata": {},
   "source": [
    "Write a Python program to get the smallest number from a list"
   ]
  },
  {
   "cell_type": "code",
   "execution_count": 8,
   "id": "21d98321",
   "metadata": {},
   "outputs": [
    {
     "name": "stdout",
     "output_type": "stream",
     "text": [
      "50\n"
     ]
    }
   ],
   "source": [
    "my_list=[50,60,70,80,100]\n",
    "a=min(my_list)\n",
    "print(a)\n"
   ]
  },
  {
   "cell_type": "code",
   "execution_count": 8,
   "id": "623a797b",
   "metadata": {},
   "outputs": [
    {
     "name": "stdout",
     "output_type": "stream",
     "text": [
      "0 100\n",
      "0 50\n",
      "0 1\n",
      "0 2\n",
      "0 70\n",
      "0 100\n",
      "0 60\n",
      "0 1\n"
     ]
    }
   ],
   "source": [
    "my_list=[100,50,1,2,70,100,60,1]\n",
    "smallest_number=0\n",
    "for number in my_list:\n",
    "    if number<smallest_number:\n",
    "        smallest_number=number\n",
    "    print(smallest_number,number)\n",
    "  \n",
    "         "
   ]
  },
  {
   "cell_type": "markdown",
   "id": "fc52fb8c",
   "metadata": {},
   "source": [
    "Write a Python program to get the largest number from a list"
   ]
  },
  {
   "cell_type": "code",
   "execution_count": 9,
   "id": "1baf8348",
   "metadata": {},
   "outputs": [
    {
     "name": "stdout",
     "output_type": "stream",
     "text": [
      "100\n"
     ]
    }
   ],
   "source": [
    "my_list=[50,60,70,80,100]\n",
    "a=max(my_list)\n",
    "print(a)"
   ]
  },
  {
   "cell_type": "code",
   "execution_count": 11,
   "id": "c3ab87ee",
   "metadata": {},
   "outputs": [
    {
     "name": "stdout",
     "output_type": "stream",
     "text": [
      "100 100\n",
      "100 50\n",
      "100 1\n",
      "100 2\n",
      "100 70\n",
      "100 100\n",
      "100 60\n",
      "100 1\n"
     ]
    }
   ],
   "source": [
    "my_list=[100,50,1,2,70,100,60,1]\n",
    "bigest_number=None\n",
    "for number in my_list:\n",
    "    if bigest_number is None:\n",
    "        bigest_number=number\n",
    "    if number>bigest_number:\n",
    "        bigest_number=number\n",
    "    print(bigest_number,number)        "
   ]
  },
  {
   "cell_type": "markdown",
   "id": "a7ab91cb",
   "metadata": {},
   "source": [
    " Write a Python program to count the number of strings from a given list of\n",
    "strings."
   ]
  },
  {
   "cell_type": "code",
   "execution_count": 59,
   "id": "137b3317",
   "metadata": {},
   "outputs": [
    {
     "name": "stdout",
     "output_type": "stream",
     "text": [
      "5 8 16 "
     ]
    }
   ],
   "source": [
    "def count_the_number_of_string(given_list):\n",
    "    sum=0\n",
    "    for chracter in given_list:\n",
    "        unmber=len(chracter)\n",
    "        sum+=unmber\n",
    "        print(sum,end=\" \")     \n",
    "count_the_number_of_string([\"ahmed\",\"abd\",\"elrashed\"])        \n",
    "        "
   ]
  },
  {
   "cell_type": "markdown",
   "id": "32286928",
   "metadata": {},
   "source": [
    "Write a Python program to clone or copy a list"
   ]
  },
  {
   "cell_type": "code",
   "execution_count": 24,
   "id": "77182328",
   "metadata": {},
   "outputs": [
    {
     "name": "stdout",
     "output_type": "stream",
     "text": [
      "['ahmed', 'abd', 'elrashed']\n"
     ]
    }
   ],
   "source": [
    "my_list=[\"ahmed\",\"abd\",\"elrashed\"]\n",
    "copy_of_my_list=my_list.copy()\n",
    "print(copy_of_my_list)"
   ]
  },
  {
   "cell_type": "markdown",
   "id": "2bd0fa89",
   "metadata": {},
   "source": [
    "Write a Python program to remove item(s) from a given set."
   ]
  },
  {
   "cell_type": "code",
   "execution_count": 26,
   "id": "ce4defc9",
   "metadata": {},
   "outputs": [
    {
     "name": "stdout",
     "output_type": "stream",
     "text": [
      "{80, 50, 100, 70, 90, 60}\n"
     ]
    }
   ],
   "source": [
    "my_set={50,60,70,80,90,100,101}\n",
    "new_set=my_set.remove(101)\n",
    "print(my_set)"
   ]
  },
  {
   "cell_type": "markdown",
   "id": "7ea8a71b",
   "metadata": {},
   "source": [
    "Write a Python program to check if a set is a subset of another set."
   ]
  },
  {
   "cell_type": "code",
   "execution_count": 34,
   "id": "d1dbe3ba",
   "metadata": {},
   "outputs": [
    {
     "name": "stdout",
     "output_type": "stream",
     "text": [
      "True\n"
     ]
    }
   ],
   "source": [
    "my_set={50,60,70,80,90,100,101,\"ahmed\"}\n",
    "my_seta={\"ahmed\"}\n",
    "print(my_seta.issubset(my_set))"
   ]
  },
  {
   "cell_type": "markdown",
   "id": "067683a0",
   "metadata": {},
   "source": [
    "Write a Python program to remove all elements from a given set"
   ]
  },
  {
   "cell_type": "code",
   "execution_count": 36,
   "id": "ebefc4ff",
   "metadata": {},
   "outputs": [
    {
     "name": "stdout",
     "output_type": "stream",
     "text": [
      "set()\n"
     ]
    }
   ],
   "source": [
    "my_set={50,60,70,80,90,100,101,\"ahmed\"}\n",
    "my_set.clear()\n",
    "print(my_set)"
   ]
  },
  {
   "cell_type": "markdown",
   "id": "26c54cff",
   "metadata": {},
   "source": [
    "Write a Python program to find the maximum and minimum values in a set"
   ]
  },
  {
   "cell_type": "code",
   "execution_count": 38,
   "id": "2e346ca2",
   "metadata": {},
   "outputs": [
    {
     "data": {
      "text/plain": [
       "101"
      ]
     },
     "execution_count": 38,
     "metadata": {},
     "output_type": "execute_result"
    }
   ],
   "source": [
    "my_set={50,60,70,80,90,100,101,}\n",
    "max (my_set)\n"
   ]
  },
  {
   "cell_type": "markdown",
   "id": "a7b37aee",
   "metadata": {},
   "source": [
    " Write a Python program to find the index of an item in a tuple."
   ]
  },
  {
   "cell_type": "code",
   "execution_count": 44,
   "id": "5aed4f03",
   "metadata": {},
   "outputs": [
    {
     "name": "stdout",
     "output_type": "stream",
     "text": [
      "(0, 1)\n",
      "(1, 3)\n",
      "(2, 5)\n",
      "(3, 8)\n",
      "(4, 100)\n",
      "\n",
      "100\n"
     ]
    }
   ],
   "source": [
    "my_tuple=(1, 3, 5, 8, 100)\n",
    "for x in enumerate(my_tuple):\n",
    "    print(x)\n",
    "print()\n",
    "print(my_tuple[4])    \n"
   ]
  },
  {
   "cell_type": "markdown",
   "id": "d92f2748",
   "metadata": {},
   "source": [
    " Write a Python program to convert a tuple to a dictionary."
   ]
  },
  {
   "cell_type": "code",
   "execution_count": 47,
   "id": "bccb6967",
   "metadata": {},
   "outputs": [
    {
     "name": "stdout",
     "output_type": "stream",
     "text": [
      "{1: 3, 5: 8, 10: 6}\n"
     ]
    }
   ],
   "source": [
    "my_tuple=(1, 3), (5, 8), (10,6)\n",
    "my_dict=dict(my_tuple)\n",
    "print(my_dict)\n"
   ]
  },
  {
   "cell_type": "markdown",
   "id": "507f75f7",
   "metadata": {},
   "source": [
    "Write a Python program to unzip a list of tuples into individual lists."
   ]
  },
  {
   "cell_type": "code",
   "execution_count": 49,
   "id": "b0d8de75",
   "metadata": {},
   "outputs": [
    {
     "name": "stdout",
     "output_type": "stream",
     "text": [
      "(100, 8, 5, 3, 1)\n"
     ]
    }
   ],
   "source": []
  },
  {
   "cell_type": "markdown",
   "id": "bc11dccd",
   "metadata": {},
   "source": [
    "Write a Python program to reverse a tuple."
   ]
  },
  {
   "cell_type": "code",
   "execution_count": 17,
   "id": "a187bf3b",
   "metadata": {},
   "outputs": [
    {
     "name": "stdout",
     "output_type": "stream",
     "text": [
      "(100, 8, 5, 3, 1)\n"
     ]
    }
   ],
   "source": [
    "my_tuple=(1, 3, 5, 8, 100)\n",
    "convert_to_list=list(my_tuple)\n",
    "convert_to_list.reverse()\n",
    "my_tuple=tuple(convert_to_list)\n",
    "print(my_tuple)"
   ]
  },
  {
   "cell_type": "markdown",
   "id": "6d541653",
   "metadata": {},
   "source": [
    " Write a Python program to convert a list of tuples into a dictionary."
   ]
  },
  {
   "cell_type": "code",
   "execution_count": 53,
   "id": "72fa31d0",
   "metadata": {},
   "outputs": [
    {
     "name": "stdout",
     "output_type": "stream",
     "text": [
      "{10: 20, 40: 50, 70: 80}\n"
     ]
    }
   ],
   "source": [
    "my_tuple=([(10, 20), (40, 50 ), (70, 80)])\n",
    "convert_into_dict=dict(my_tuple)\n",
    "print(convert_into_dict)"
   ]
  },
  {
   "cell_type": "markdown",
   "id": "6fadfebb",
   "metadata": {},
   "source": [
    "Write a Python program to replace the last value of tuples in a list.\n",
    "Sample list: [(10, 20, 40), (40, 50, 60), (70, 80, 90)]\n",
    "Expected Output: [(10, 20, 100), (40, 50, 100), (70, 80, 100)]"
   ]
  },
  {
   "cell_type": "code",
   "execution_count": 15,
   "id": "6a139300",
   "metadata": {},
   "outputs": [
    {
     "ename": "TypeError",
     "evalue": "can only concatenate tuple (not \"int\") to tuple",
     "output_type": "error",
     "traceback": [
      "\u001b[1;31m---------------------------------------------------------------------------\u001b[0m",
      "\u001b[1;31mTypeError\u001b[0m                                 Traceback (most recent call last)",
      "Cell \u001b[1;32mIn[15], line 4\u001b[0m\n\u001b[0;32m      1\u001b[0m my_list\u001b[38;5;241m=\u001b[39m[(\u001b[38;5;241m10\u001b[39m, \u001b[38;5;241m20\u001b[39m, \u001b[38;5;241m40\u001b[39m), (\u001b[38;5;241m40\u001b[39m, \u001b[38;5;241m50\u001b[39m, \u001b[38;5;241m60\u001b[39m), (\u001b[38;5;241m70\u001b[39m, \u001b[38;5;241m80\u001b[39m, \u001b[38;5;241m90\u001b[39m)]\n\u001b[0;32m      2\u001b[0m \u001b[38;5;28;01mfor\u001b[39;00m i \u001b[38;5;129;01min\u001b[39;00m my_list:\n\u001b[1;32m----> 4\u001b[0m     \u001b[38;5;28mprint\u001b[39m((i[:\u001b[38;5;241m-\u001b[39m\u001b[38;5;241m1\u001b[39m])\u001b[38;5;241m+\u001b[39m(\u001b[38;5;241m100\u001b[39m))\n",
      "\u001b[1;31mTypeError\u001b[0m: can only concatenate tuple (not \"int\") to tuple"
     ]
    }
   ],
   "source": [
    "my_list=[(10, 20, 40), (40, 50, 60), (70, 80, 90)]\n",
    "for i in my_list:\n",
    "    \n",
    "    print((i[:-1])+(100))"
   ]
  },
  {
   "cell_type": "markdown",
   "id": "ad36d75b",
   "metadata": {},
   "source": [
    " Write a Python program to sort a tuple by its float element"
   ]
  },
  {
   "cell_type": "code",
   "execution_count": null,
   "id": "e65bb016",
   "metadata": {},
   "outputs": [],
   "source": []
  },
  {
   "cell_type": "markdown",
   "id": "b27f7b0e",
   "metadata": {},
   "source": []
  },
  {
   "cell_type": "code",
   "execution_count": null,
   "id": "5b170b65",
   "metadata": {},
   "outputs": [],
   "source": []
  },
  {
   "cell_type": "markdown",
   "id": "1ce86e73",
   "metadata": {},
   "source": []
  }
 ],
 "metadata": {
  "kernelspec": {
   "display_name": "Python 3 (ipykernel)",
   "language": "python",
   "name": "python3"
  },
  "language_info": {
   "codemirror_mode": {
    "name": "ipython",
    "version": 3
   },
   "file_extension": ".py",
   "mimetype": "text/x-python",
   "name": "python",
   "nbconvert_exporter": "python",
   "pygments_lexer": "ipython3",
   "version": "3.11.5"
  }
 },
 "nbformat": 4,
 "nbformat_minor": 5
}
